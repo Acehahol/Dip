{
 "cells": [
  {
   "cell_type": "markdown",
   "metadata": {},
   "source": [
    "# 1. Добавление библиотек\n"
   ]
  },
  {
   "cell_type": "code",
   "execution_count": null,
   "metadata": {},
   "outputs": [],
   "source": [
    "!pip install opencv-python"
   ]
  },
  {
   "cell_type": "code",
   "execution_count": 1,
   "metadata": {},
   "outputs": [],
   "source": [
    "# Import opencv\n",
    "import cv2 \n",
    "\n",
    "# Import uuid\n",
    "import uuid\n",
    "\n",
    "# Import Operating System\n",
    "import os\n",
    "\n",
    "# Import time\n",
    "import time"
   ]
  },
  {
   "cell_type": "markdown",
   "metadata": {},
   "source": [
    "# 2. Определение классов изображений\n"
   ]
  },
  {
   "cell_type": "code",
   "execution_count": 2,
   "metadata": {},
   "outputs": [],
   "source": [
    "labels = ['thumbsup', 'thumbsdown', 'yes', 'no','hello','bye','iloveyou','peace','thanks','ok']\n",
    "number_imgs = 25"
   ]
  },
  {
   "cell_type": "markdown",
   "metadata": {},
   "source": [
    "# 3. Создание папок"
   ]
  },
  {
   "cell_type": "code",
   "execution_count": 3,
   "metadata": {},
   "outputs": [],
   "source": [
    "IMAGES_PATH = os.path.join('Tensorflow', 'workspace', 'images', 'collectedimages')"
   ]
  },
  {
   "cell_type": "code",
   "execution_count": 4,
   "metadata": {},
   "outputs": [],
   "source": [
    "if not os.path.exists(IMAGES_PATH):\n",
    "    if os.name == 'posix':\n",
    "        !mkdir -p {IMAGES_PATH}\n",
    "    if os.name == 'nt':\n",
    "         !mkdir {IMAGES_PATH}\n",
    "for label in labels:\n",
    "    path = os.path.join(IMAGES_PATH, label)\n",
    "    if not os.path.exists(path):\n",
    "        !mkdir {path}"
   ]
  },
  {
   "cell_type": "markdown",
   "metadata": {},
   "source": [
    "# 4. Захват и сохрание изображения"
   ]
  },
  {
   "cell_type": "code",
   "execution_count": 12,
   "metadata": {},
   "outputs": [
    {
     "name": "stdout",
     "output_type": "stream",
     "text": [
      "Collecting images for thumbsup\n",
      "Collecting image 0\n"
     ]
    },
    {
     "ename": "error",
     "evalue": "OpenCV(4.5.5) D:\\a\\opencv-python\\opencv-python\\opencv\\modules\\imgcodecs\\src\\loadsave.cpp:801: error: (-215:Assertion failed) !_img.empty() in function 'cv::imwrite'\n",
     "output_type": "error",
     "traceback": [
      "\u001b[1;31m---------------------------------------------------------------------------\u001b[0m",
      "\u001b[1;31merror\u001b[0m                                     Traceback (most recent call last)",
      "Input \u001b[1;32mIn [12]\u001b[0m, in \u001b[0;36m<cell line: 1>\u001b[1;34m()\u001b[0m\n\u001b[0;32m      7\u001b[0m ret, frame \u001b[38;5;241m=\u001b[39m cap\u001b[38;5;241m.\u001b[39mread()\n\u001b[0;32m      8\u001b[0m imgname \u001b[38;5;241m=\u001b[39m os\u001b[38;5;241m.\u001b[39mpath\u001b[38;5;241m.\u001b[39mjoin(IMAGES_PATH,label,label\u001b[38;5;241m+\u001b[39m\u001b[38;5;124m'\u001b[39m\u001b[38;5;124m.\u001b[39m\u001b[38;5;124m'\u001b[39m\u001b[38;5;241m+\u001b[39m\u001b[38;5;124m'\u001b[39m\u001b[38;5;132;01m{}\u001b[39;00m\u001b[38;5;124m.jpg\u001b[39m\u001b[38;5;124m'\u001b[39m\u001b[38;5;241m.\u001b[39mformat(\u001b[38;5;28mstr\u001b[39m(uuid\u001b[38;5;241m.\u001b[39muuid1())))\n\u001b[1;32m----> 9\u001b[0m \u001b[43mcv2\u001b[49m\u001b[38;5;241;43m.\u001b[39;49m\u001b[43mimwrite\u001b[49m\u001b[43m(\u001b[49m\u001b[43mimgname\u001b[49m\u001b[43m,\u001b[49m\u001b[43m \u001b[49m\u001b[43mframe\u001b[49m\u001b[43m)\u001b[49m\n\u001b[0;32m     10\u001b[0m cv2\u001b[38;5;241m.\u001b[39mimshow(\u001b[38;5;124m'\u001b[39m\u001b[38;5;124mframe\u001b[39m\u001b[38;5;124m'\u001b[39m, frame)\n\u001b[0;32m     11\u001b[0m time\u001b[38;5;241m.\u001b[39msleep(\u001b[38;5;241m2\u001b[39m)\n",
      "\u001b[1;31merror\u001b[0m: OpenCV(4.5.5) D:\\a\\opencv-python\\opencv-python\\opencv\\modules\\imgcodecs\\src\\loadsave.cpp:801: error: (-215:Assertion failed) !_img.empty() in function 'cv::imwrite'\n"
     ]
    }
   ],
   "source": [
    "for label in labels:\n",
    "    cap = cv2.VideoCapture(0)\n",
    "    print('Collecting images for {}'.format(label))\n",
    "    time.sleep(5)\n",
    "    for imgnum in range(number_imgs):\n",
    "        print('Collecting image {}'.format(imgnum))\n",
    "        ret, frame = cap.read()\n",
    "        imgname = os.path.join(IMAGES_PATH,label,label+'.'+'{}.jpg'.format(str(uuid.uuid1())))\n",
    "        cv2.imwrite(imgname, frame)\n",
    "        cv2.imshow('frame', frame)\n",
    "        time.sleep(2)\n",
    "\n",
    "        if cv2.waitKey(1) & 0xFF == ord('q'):\n",
    "            break\n",
    "cap.release()\n",
    "cv2.destroyAllWindows()"
   ]
  },
  {
   "cell_type": "markdown",
   "metadata": {},
   "source": [
    "# 5. Создание меток изображений"
   ]
  },
  {
   "cell_type": "code",
   "execution_count": null,
   "metadata": {},
   "outputs": [],
   "source": [
    "!pip install --upgrade pyqt5 lxml"
   ]
  },
  {
   "cell_type": "code",
   "execution_count": 7,
   "metadata": {},
   "outputs": [],
   "source": [
    "LABELIMG_PATH = os.path.join('Tensorflow', 'labelimg')"
   ]
  },
  {
   "cell_type": "code",
   "execution_count": 8,
   "metadata": {},
   "outputs": [],
   "source": [
    "if not os.path.exists(LABELIMG_PATH):\n",
    "    !mkdir {LABELIMG_PATH}\n",
    "    !git clone https://github.com/tzutalin/labelImg {LABELIMG_PATH}"
   ]
  },
  {
   "cell_type": "code",
   "execution_count": 9,
   "metadata": {},
   "outputs": [],
   "source": [
    "if os.name == 'posix':\n",
    "    !cd {LABELIMG_PATH} && make qt5py3\n",
    "if os.name =='nt':\n",
    "    !cd {LABELIMG_PATH} && pyrcc5 -o libs/resources.py resources.qrc"
   ]
  },
  {
   "cell_type": "code",
   "execution_count": 11,
   "metadata": {},
   "outputs": [
    {
     "name": "stdout",
     "output_type": "stream",
     "text": [
      "Image:C:\\Users\\vlad\\Git\\TFODCourse\\Tensorflow\\workspace\\images\\collectedimages\\peace\\peace.9a5aa874-d10e-11ec-bf1e-54e1adea0618.jpg -> Annotation:C:/Users/vlad/Git/TFODCourse/Tensorflow/workspace/images/collectedimages/peace\\peace.9a5aa874-d10e-11ec-bf1e-54e1adea0618.xml\n",
      "Image:C:\\Users\\vlad\\Git\\TFODCourse\\Tensorflow\\workspace\\images\\collectedimages\\peace\\peace.9b917ba1-d10e-11ec-a052-54e1adea0618.jpg -> Annotation:C:/Users/vlad/Git/TFODCourse/Tensorflow/workspace/images/collectedimages/peace\\peace.9b917ba1-d10e-11ec-a052-54e1adea0618.xml\n",
      "Image:C:\\Users\\vlad\\Git\\TFODCourse\\Tensorflow\\workspace\\images\\collectedimages\\peace\\peace.9cc79d17-d10e-11ec-8ef8-54e1adea0618.jpg -> Annotation:C:/Users/vlad/Git/TFODCourse/Tensorflow/workspace/images/collectedimages/peace\\peace.9cc79d17-d10e-11ec-8ef8-54e1adea0618.xml\n",
      "Image:C:\\Users\\vlad\\Git\\TFODCourse\\Tensorflow\\workspace\\images\\collectedimages\\peace\\peace.9dfdb536-d10e-11ec-b681-54e1adea0618.jpg -> Annotation:C:/Users/vlad/Git/TFODCourse/Tensorflow/workspace/images/collectedimages/peace\\peace.9dfdb536-d10e-11ec-b681-54e1adea0618.xml\n",
      "Image:C:\\Users\\vlad\\Git\\TFODCourse\\Tensorflow\\workspace\\images\\collectedimages\\peace\\peace.9f33a077-d10e-11ec-ab84-54e1adea0618.jpg -> Annotation:C:/Users/vlad/Git/TFODCourse/Tensorflow/workspace/images/collectedimages/peace\\peace.9f33a077-d10e-11ec-ab84-54e1adea0618.xml\n",
      "Image:C:\\Users\\vlad\\Git\\TFODCourse\\Tensorflow\\workspace\\images\\collectedimages\\peace\\peace.96b89427-d10e-11ec-86eb-54e1adea0618.jpg -> Annotation:C:/Users/vlad/Git/TFODCourse/Tensorflow/workspace/images/collectedimages/peace\\peace.96b89427-d10e-11ec-86eb-54e1adea0618.xml\n",
      "Image:C:\\Users\\vlad\\Git\\TFODCourse\\Tensorflow\\workspace\\images\\collectedimages\\peace\\peace.97ee99df-d10e-11ec-a4e4-54e1adea0618.jpg -> Annotation:C:/Users/vlad/Git/TFODCourse/Tensorflow/workspace/images/collectedimages/peace\\peace.97ee99df-d10e-11ec-a4e4-54e1adea0618.xml\n",
      "Image:C:\\Users\\vlad\\Git\\TFODCourse\\Tensorflow\\workspace\\images\\collectedimages\\peace\\peace.944ccc58-d10e-11ec-ae12-54e1adea0618.jpg -> Annotation:C:/Users/vlad/Git/TFODCourse/Tensorflow/workspace/images/collectedimages/peace\\peace.944ccc58-d10e-11ec-ae12-54e1adea0618.xml\n",
      "Image:C:\\Users\\vlad\\Git\\TFODCourse\\Tensorflow\\workspace\\images\\collectedimages\\peace\\peace.9581b4d8-d10e-11ec-ab86-54e1adea0618.jpg -> Annotation:C:/Users/vlad/Git/TFODCourse/Tensorflow/workspace/images/collectedimages/peace\\peace.9581b4d8-d10e-11ec-ab86-54e1adea0618.xml\n",
      "Image:C:\\Users\\vlad\\Git\\TFODCourse\\Tensorflow\\workspace\\images\\collectedimages\\peace\\peace.93176aad-d10e-11ec-8081-54e1adea0618.jpg -> Annotation:C:/Users/vlad/Git/TFODCourse/Tensorflow/workspace/images/collectedimages/peace\\peace.93176aad-d10e-11ec-8081-54e1adea0618.xml\n",
      "Image:C:\\Users\\vlad\\Git\\TFODCourse\\Tensorflow\\workspace\\images\\collectedimages\\peace\\peace.99249a89-d10e-11ec-962b-54e1adea0618.jpg -> Annotation:C:/Users/vlad/Git/TFODCourse/Tensorflow/workspace/images/collectedimages/peace\\peace.99249a89-d10e-11ec-962b-54e1adea0618.xml\n",
      "Image:C:\\Users\\vlad\\Git\\TFODCourse\\Tensorflow\\workspace\\images\\collectedimages\\peace\\peace.a1a0abcf-d10e-11ec-b3a9-54e1adea0618.jpg -> Annotation:C:/Users/vlad/Git/TFODCourse/Tensorflow/workspace/images/collectedimages/peace\\peace.a1a0abcf-d10e-11ec-b3a9-54e1adea0618.xml\n",
      "Image:C:\\Users\\vlad\\Git\\TFODCourse\\Tensorflow\\workspace\\images\\collectedimages\\peace\\peace.a2d76072-d10e-11ec-9fed-54e1adea0618.jpg -> Annotation:C:/Users/vlad/Git/TFODCourse/Tensorflow/workspace/images/collectedimages/peace\\peace.a2d76072-d10e-11ec-9fed-54e1adea0618.xml\n",
      "Image:C:\\Users\\vlad\\Git\\TFODCourse\\Tensorflow\\workspace\\images\\collectedimages\\peace\\peace.a7b158b6-d10e-11ec-8944-54e1adea0618.jpg -> Annotation:C:/Users/vlad/Git/TFODCourse/Tensorflow/workspace/images/collectedimages/peace\\peace.a7b158b6-d10e-11ec-8944-54e1adea0618.xml\n",
      "Image:C:\\Users\\vlad\\Git\\TFODCourse\\Tensorflow\\workspace\\images\\collectedimages\\peace\\peace.a8e6fe19-d10e-11ec-933c-54e1adea0618.jpg -> Annotation:C:/Users/vlad/Git/TFODCourse/Tensorflow/workspace/images/collectedimages/peace\\peace.a8e6fe19-d10e-11ec-933c-54e1adea0618.xml\n",
      "Image:C:\\Users\\vlad\\Git\\TFODCourse\\Tensorflow\\workspace\\images\\collectedimages\\peace\\peace.a40feb01-d10e-11ec-b869-54e1adea0618.jpg -> Annotation:C:/Users/vlad/Git/TFODCourse/Tensorflow/workspace/images/collectedimages/peace\\peace.a40feb01-d10e-11ec-b869-54e1adea0618.xml\n",
      "Image:C:\\Users\\vlad\\Git\\TFODCourse\\Tensorflow\\workspace\\images\\collectedimages\\peace\\peace.a67c4332-d10e-11ec-9ff4-54e1adea0618.jpg -> Annotation:C:/Users/vlad/Git/TFODCourse/Tensorflow/workspace/images/collectedimages/peace\\peace.a67c4332-d10e-11ec-9ff4-54e1adea0618.xml\n",
      "Image:C:\\Users\\vlad\\Git\\TFODCourse\\Tensorflow\\workspace\\images\\collectedimages\\peace\\peace.a545b792-d10e-11ec-a963-54e1adea0618.jpg -> Annotation:C:/Users/vlad/Git/TFODCourse/Tensorflow/workspace/images/collectedimages/peace\\peace.a545b792-d10e-11ec-a963-54e1adea0618.xml\n",
      "Image:C:\\Users\\vlad\\Git\\TFODCourse\\Tensorflow\\workspace\\images\\collectedimages\\peace\\peace.a0698347-d10e-11ec-aef5-54e1adea0618.jpg -> Annotation:C:/Users/vlad/Git/TFODCourse/Tensorflow/workspace/images/collectedimages/peace\\peace.a0698347-d10e-11ec-aef5-54e1adea0618.xml\n",
      "Image:C:\\Users\\vlad\\Git\\TFODCourse\\Tensorflow\\workspace\\images\\collectedimages\\peace\\peace.aa1c2c99-d10e-11ec-af1e-54e1adea0618.jpg -> Annotation:C:/Users/vlad/Git/TFODCourse/Tensorflow/workspace/images/collectedimages/peace\\peace.aa1c2c99-d10e-11ec-af1e-54e1adea0618.xml\n",
      "Image:C:\\Users\\vlad\\Git\\TFODCourse\\Tensorflow\\workspace\\images\\collectedimages\\peace\\peace.ab52b6fa-d10e-11ec-8d80-54e1adea0618.jpg -> Annotation:C:/Users/vlad/Git/TFODCourse/Tensorflow/workspace/images/collectedimages/peace\\peace.ab52b6fa-d10e-11ec-8d80-54e1adea0618.xml\n",
      "Image:C:\\Users\\vlad\\Git\\TFODCourse\\Tensorflow\\workspace\\images\\collectedimages\\peace\\peace.ac884c69-d10e-11ec-bcd5-54e1adea0618.jpg -> Annotation:C:/Users/vlad/Git/TFODCourse/Tensorflow/workspace/images/collectedimages/peace\\peace.ac884c69-d10e-11ec-bcd5-54e1adea0618.xml\n",
      "Image:C:\\Users\\vlad\\Git\\TFODCourse\\Tensorflow\\workspace\\images\\collectedimages\\peace\\peace.adbfcaf2-d10e-11ec-bcc9-54e1adea0618.jpg -> Annotation:C:/Users/vlad/Git/TFODCourse/Tensorflow/workspace/images/collectedimages/peace\\peace.adbfcaf2-d10e-11ec-bcc9-54e1adea0618.xml\n",
      "Image:C:\\Users\\vlad\\Git\\TFODCourse\\Tensorflow\\workspace\\images\\collectedimages\\peace\\peace.aef7314a-d10e-11ec-9d08-54e1adea0618.jpg -> Annotation:C:/Users/vlad/Git/TFODCourse/Tensorflow/workspace/images/collectedimages/peace\\peace.aef7314a-d10e-11ec-9d08-54e1adea0618.xml\n",
      "Image:C:\\Users\\vlad\\Git\\TFODCourse\\Tensorflow\\workspace\\images\\collectedimages\\peace\\peace.b02d445c-d10e-11ec-a909-54e1adea0618.jpg -> Annotation:C:/Users/vlad/Git/TFODCourse/Tensorflow/workspace/images/collectedimages/peace\\peace.b02d445c-d10e-11ec-a909-54e1adea0618.xml\n",
      "Image:C:\\Users\\vlad\\Git\\TFODCourse\\Tensorflow\\workspace\\images\\collectedimages\\thanks\\thanks.b9c45faf-d10e-11ec-a63b-54e1adea0618.jpg -> Annotation:C:/Users/vlad/Git/TFODCourse/Tensorflow/workspace/images/collectedimages/thanks\\thanks.b9c45faf-d10e-11ec-a63b-54e1adea0618.xml\n",
      "Image:C:\\Users\\vlad\\Git\\TFODCourse\\Tensorflow\\workspace\\images\\collectedimages\\thanks\\thanks.b88fdadb-d10e-11ec-acde-54e1adea0618.jpg -> Annotation:C:/Users/vlad/Git/TFODCourse/Tensorflow/workspace/images/collectedimages/thanks\\thanks.b88fdadb-d10e-11ec-acde-54e1adea0618.xml\n",
      "Image:C:\\Users\\vlad\\Git\\TFODCourse\\Tensorflow\\workspace\\images\\collectedimages\\thanks\\thanks.baf9d021-d10e-11ec-9d5d-54e1adea0618.jpg -> Annotation:C:/Users/vlad/Git/TFODCourse/Tensorflow/workspace/images/collectedimages/thanks\\thanks.baf9d021-d10e-11ec-9d5d-54e1adea0618.xml\n",
      "Image:C:\\Users\\vlad\\Git\\TFODCourse\\Tensorflow\\workspace\\images\\collectedimages\\thanks\\thanks.bc310f87-d10e-11ec-8fc6-54e1adea0618.jpg -> Annotation:C:/Users/vlad/Git/TFODCourse/Tensorflow/workspace/images/collectedimages/thanks\\thanks.bc310f87-d10e-11ec-8fc6-54e1adea0618.xml\n",
      "Image:C:\\Users\\vlad\\Git\\TFODCourse\\Tensorflow\\workspace\\images\\collectedimages\\thanks\\thanks.bd66d26e-d10e-11ec-9492-54e1adea0618.jpg -> Annotation:C:/Users/vlad/Git/TFODCourse/Tensorflow/workspace/images/collectedimages/thanks\\thanks.bd66d26e-d10e-11ec-9492-54e1adea0618.xml\n",
      "Image:C:\\Users\\vlad\\Git\\TFODCourse\\Tensorflow\\workspace\\images\\collectedimages\\thanks\\thanks.be9d4e6c-d10e-11ec-b67e-54e1adea0618.jpg -> Annotation:C:/Users/vlad/Git/TFODCourse/Tensorflow/workspace/images/collectedimages/thanks\\thanks.be9d4e6c-d10e-11ec-b67e-54e1adea0618.xml\n",
      "Image:C:\\Users\\vlad\\Git\\TFODCourse\\Tensorflow\\workspace\\images\\collectedimages\\thanks\\thanks.bfd38576-d10e-11ec-a639-54e1adea0618.jpg -> Annotation:C:/Users/vlad/Git/TFODCourse/Tensorflow/workspace/images/collectedimages/thanks\\thanks.bfd38576-d10e-11ec-a639-54e1adea0618.xml\n",
      "Image:C:\\Users\\vlad\\Git\\TFODCourse\\Tensorflow\\workspace\\images\\collectedimages\\thanks\\thanks.c4ac0763-d10e-11ec-9645-54e1adea0618.jpg -> Annotation:C:/Users/vlad/Git/TFODCourse/Tensorflow/workspace/images/collectedimages/thanks\\thanks.c4ac0763-d10e-11ec-9645-54e1adea0618.xml\n",
      "Image:C:\\Users\\vlad\\Git\\TFODCourse\\Tensorflow\\workspace\\images\\collectedimages\\thanks\\thanks.c5e272a2-d10e-11ec-853c-54e1adea0618.jpg -> Annotation:C:/Users/vlad/Git/TFODCourse/Tensorflow/workspace/images/collectedimages/thanks\\thanks.c5e272a2-d10e-11ec-853c-54e1adea0618.xml\n",
      "Image:C:\\Users\\vlad\\Git\\TFODCourse\\Tensorflow\\workspace\\images\\collectedimages\\thanks\\thanks.c23de1a8-d10e-11ec-97f3-54e1adea0618.jpg -> Annotation:C:/Users/vlad/Git/TFODCourse/Tensorflow/workspace/images/collectedimages/thanks\\thanks.c23de1a8-d10e-11ec-97f3-54e1adea0618.xml\n",
      "Image:C:\\Users\\vlad\\Git\\TFODCourse\\Tensorflow\\workspace\\images\\collectedimages\\thanks\\thanks.c84dd2d9-d10e-11ec-af4d-54e1adea0618.jpg -> Annotation:C:/Users/vlad/Git/TFODCourse/Tensorflow/workspace/images/collectedimages/thanks\\thanks.c84dd2d9-d10e-11ec-af4d-54e1adea0618.xml\n",
      "Image:C:\\Users\\vlad\\Git\\TFODCourse\\Tensorflow\\workspace\\images\\collectedimages\\thanks\\thanks.c108bafe-d10e-11ec-852a-54e1adea0618.jpg -> Annotation:C:/Users/vlad/Git/TFODCourse/Tensorflow/workspace/images/collectedimages/thanks\\thanks.c108bafe-d10e-11ec-852a-54e1adea0618.xml\n",
      "Image:C:\\Users\\vlad\\Git\\TFODCourse\\Tensorflow\\workspace\\images\\collectedimages\\thanks\\thanks.c374e201-d10e-11ec-95c3-54e1adea0618.jpg -> Annotation:C:/Users/vlad/Git/TFODCourse/Tensorflow/workspace/images/collectedimages/thanks\\thanks.c374e201-d10e-11ec-95c3-54e1adea0618.xml\n",
      "Image:C:\\Users\\vlad\\Git\\TFODCourse\\Tensorflow\\workspace\\images\\collectedimages\\thanks\\thanks.c9840e67-d10e-11ec-901a-54e1adea0618.jpg -> Annotation:C:/Users/vlad/Git/TFODCourse/Tensorflow/workspace/images/collectedimages/thanks\\thanks.c9840e67-d10e-11ec-901a-54e1adea0618.xml\n",
      "Image:C:\\Users\\vlad\\Git\\TFODCourse\\Tensorflow\\workspace\\images\\collectedimages\\thanks\\thanks.c7178600-d10e-11ec-b3a6-54e1adea0618.jpg -> Annotation:C:/Users/vlad/Git/TFODCourse/Tensorflow/workspace/images/collectedimages/thanks\\thanks.c7178600-d10e-11ec-b3a6-54e1adea0618.xml\n",
      "Image:C:\\Users\\vlad\\Git\\TFODCourse\\Tensorflow\\workspace\\images\\collectedimages\\thanks\\thanks.cabbcce0-d10e-11ec-8f93-54e1adea0618.jpg -> Annotation:C:/Users/vlad/Git/TFODCourse/Tensorflow/workspace/images/collectedimages/thanks\\thanks.cabbcce0-d10e-11ec-8f93-54e1adea0618.xml\n",
      "Image:C:\\Users\\vlad\\Git\\TFODCourse\\Tensorflow\\workspace\\images\\collectedimages\\thanks\\thanks.cbf2238d-d10e-11ec-98d1-54e1adea0618.jpg -> Annotation:C:/Users/vlad/Git/TFODCourse/Tensorflow/workspace/images/collectedimages/thanks\\thanks.cbf2238d-d10e-11ec-98d1-54e1adea0618.xml\n",
      "Image:C:\\Users\\vlad\\Git\\TFODCourse\\Tensorflow\\workspace\\images\\collectedimages\\thanks\\thanks.cd297378-d10e-11ec-a205-54e1adea0618.jpg -> Annotation:C:/Users/vlad/Git/TFODCourse/Tensorflow/workspace/images/collectedimages/thanks\\thanks.cd297378-d10e-11ec-a205-54e1adea0618.xml\n",
      "Image:C:\\Users\\vlad\\Git\\TFODCourse\\Tensorflow\\workspace\\images\\collectedimages\\thanks\\thanks.ce5f0832-d10e-11ec-b810-54e1adea0618.jpg -> Annotation:C:/Users/vlad/Git/TFODCourse/Tensorflow/workspace/images/collectedimages/thanks\\thanks.ce5f0832-d10e-11ec-b810-54e1adea0618.xml\n",
      "Image:C:\\Users\\vlad\\Git\\TFODCourse\\Tensorflow\\workspace\\images\\collectedimages\\thanks\\thanks.cf9458b5-d10e-11ec-8f41-54e1adea0618.jpg -> Annotation:C:/Users/vlad/Git/TFODCourse/Tensorflow/workspace/images/collectedimages/thanks\\thanks.cf9458b5-d10e-11ec-8f41-54e1adea0618.xml\n",
      "Image:C:\\Users\\vlad\\Git\\TFODCourse\\Tensorflow\\workspace\\images\\collectedimages\\thanks\\thanks.d0c91a54-d10e-11ec-ba5f-54e1adea0618.jpg -> Annotation:C:/Users/vlad/Git/TFODCourse/Tensorflow/workspace/images/collectedimages/thanks\\thanks.d0c91a54-d10e-11ec-ba5f-54e1adea0618.xml\n",
      "Image:C:\\Users\\vlad\\Git\\TFODCourse\\Tensorflow\\workspace\\images\\collectedimages\\thanks\\thanks.d1ff68b5-d10e-11ec-bba2-54e1adea0618.jpg -> Annotation:C:/Users/vlad/Git/TFODCourse/Tensorflow/workspace/images/collectedimages/thanks\\thanks.d1ff68b5-d10e-11ec-bba2-54e1adea0618.xml\n",
      "Image:C:\\Users\\vlad\\Git\\TFODCourse\\Tensorflow\\workspace\\images\\collectedimages\\thanks\\thanks.d5a2e22b-d10e-11ec-b495-54e1adea0618.jpg -> Annotation:C:/Users/vlad/Git/TFODCourse/Tensorflow/workspace/images/collectedimages/thanks\\thanks.d5a2e22b-d10e-11ec-b495-54e1adea0618.xml\n",
      "Image:C:\\Users\\vlad\\Git\\TFODCourse\\Tensorflow\\workspace\\images\\collectedimages\\thanks\\thanks.d46bce69-d10e-11ec-bcde-54e1adea0618.jpg -> Annotation:C:/Users/vlad/Git/TFODCourse/Tensorflow/workspace/images/collectedimages/thanks\\thanks.d46bce69-d10e-11ec-bcde-54e1adea0618.xml\n",
      "Image:C:\\Users\\vlad\\Git\\TFODCourse\\Tensorflow\\workspace\\images\\collectedimages\\thanks\\thanks.d3357dde-d10e-11ec-af9d-54e1adea0618.jpg -> Annotation:C:/Users/vlad/Git/TFODCourse/Tensorflow/workspace/images/collectedimages/thanks\\thanks.d3357dde-d10e-11ec-af9d-54e1adea0618.xml\n",
      "Image:C:\\Users\\vlad\\Git\\TFODCourse\\Tensorflow\\workspace\\images\\collectedimages\\thumbsdown\\thumbsdown.b2ef1b15-d10d-11ec-b80a-54e1adea0618.jpg -> Annotation:C:/Users/vlad/Git/TFODCourse/Tensorflow/workspace/images/collectedimages/thumbsdown\\thumbsdown.b2ef1b15-d10d-11ec-b80a-54e1adea0618.xml\n",
      "Image:C:\\Users\\vlad\\Git\\TFODCourse\\Tensorflow\\workspace\\images\\collectedimages\\thumbsdown\\thumbsdown.b7cbc16b-d10d-11ec-8c3c-54e1adea0618.jpg -> Annotation:C:/Users/vlad/Git/TFODCourse/Tensorflow/workspace/images/collectedimages/thumbsdown\\thumbsdown.b7cbc16b-d10d-11ec-8c3c-54e1adea0618.xml\n",
      "Image:C:\\Users\\vlad\\Git\\TFODCourse\\Tensorflow\\workspace\\images\\collectedimages\\thumbsdown\\thumbsdown.b55cccb9-d10d-11ec-9a15-54e1adea0618.jpg -> Annotation:C:/Users/vlad/Git/TFODCourse/Tensorflow/workspace/images/collectedimages/thumbsdown\\thumbsdown.b55cccb9-d10d-11ec-9a15-54e1adea0618.xml\n",
      "Image:C:\\Users\\vlad\\Git\\TFODCourse\\Tensorflow\\workspace\\images\\collectedimages\\thumbsdown\\thumbsdown.b424f5f4-d10d-11ec-ac72-54e1adea0618.jpg -> Annotation:C:/Users/vlad/Git/TFODCourse/Tensorflow/workspace/images/collectedimages/thumbsdown\\thumbsdown.b424f5f4-d10d-11ec-ac72-54e1adea0618.xml\n",
      "Image:C:\\Users\\vlad\\Git\\TFODCourse\\Tensorflow\\workspace\\images\\collectedimages\\thumbsdown\\thumbsdown.b694df2e-d10d-11ec-8f9c-54e1adea0618.jpg -> Annotation:C:/Users/vlad/Git/TFODCourse/Tensorflow/workspace/images/collectedimages/thumbsdown\\thumbsdown.b694df2e-d10d-11ec-8f9c-54e1adea0618.xml\n",
      "Image:C:\\Users\\vlad\\Git\\TFODCourse\\Tensorflow\\workspace\\images\\collectedimages\\thumbsdown\\thumbsdown.b901a7dd-d10d-11ec-a499-54e1adea0618.jpg -> Annotation:C:/Users/vlad/Git/TFODCourse/Tensorflow/workspace/images/collectedimages/thumbsdown\\thumbsdown.b901a7dd-d10d-11ec-a499-54e1adea0618.xml\n",
      "Image:C:\\Users\\vlad\\Git\\TFODCourse\\Tensorflow\\workspace\\images\\collectedimages\\thumbsdown\\thumbsdown.ba3807dd-d10d-11ec-8615-54e1adea0618.jpg -> Annotation:C:/Users/vlad/Git/TFODCourse/Tensorflow/workspace/images/collectedimages/thumbsdown\\thumbsdown.ba3807dd-d10d-11ec-8615-54e1adea0618.xml\n",
      "Image:C:\\Users\\vlad\\Git\\TFODCourse\\Tensorflow\\workspace\\images\\collectedimages\\thumbsdown\\thumbsdown.bb6d1e7b-d10d-11ec-803b-54e1adea0618.jpg -> Annotation:C:/Users/vlad/Git/TFODCourse/Tensorflow/workspace/images/collectedimages/thumbsdown\\thumbsdown.bb6d1e7b-d10d-11ec-803b-54e1adea0618.xml\n",
      "Image:C:\\Users\\vlad\\Git\\TFODCourse\\Tensorflow\\workspace\\images\\collectedimages\\thumbsdown\\thumbsdown.bca23aed-d10d-11ec-a6bf-54e1adea0618.jpg -> Annotation:C:/Users/vlad/Git/TFODCourse/Tensorflow/workspace/images/collectedimages/thumbsdown\\thumbsdown.bca23aed-d10d-11ec-a6bf-54e1adea0618.xml\n",
      "Image:C:\\Users\\vlad\\Git\\TFODCourse\\Tensorflow\\workspace\\images\\collectedimages\\thumbsdown\\thumbsdown.bdd62fea-d10d-11ec-8e79-54e1adea0618.jpg -> Annotation:C:/Users/vlad/Git/TFODCourse/Tensorflow/workspace/images/collectedimages/thumbsdown\\thumbsdown.bdd62fea-d10d-11ec-8e79-54e1adea0618.xml\n",
      "Image:C:\\Users\\vlad\\Git\\TFODCourse\\Tensorflow\\workspace\\images\\collectedimages\\thumbsdown\\thumbsdown.bf0ba874-d10d-11ec-9b58-54e1adea0618.jpg -> Annotation:C:/Users/vlad/Git/TFODCourse/Tensorflow/workspace/images/collectedimages/thumbsdown\\thumbsdown.bf0ba874-d10d-11ec-9b58-54e1adea0618.xml\n",
      "Image:C:\\Users\\vlad\\Git\\TFODCourse\\Tensorflow\\workspace\\images\\collectedimages\\thumbsdown\\thumbsdown.c2acf00c-d10d-11ec-af29-54e1adea0618.jpg -> Annotation:C:/Users/vlad/Git/TFODCourse/Tensorflow/workspace/images/collectedimages/thumbsdown\\thumbsdown.c2acf00c-d10d-11ec-af29-54e1adea0618.xml\n",
      "Image:C:\\Users\\vlad\\Git\\TFODCourse\\Tensorflow\\workspace\\images\\collectedimages\\thumbsdown\\thumbsdown.c3e353dc-d10d-11ec-af1b-54e1adea0618.jpg -> Annotation:C:/Users/vlad/Git/TFODCourse/Tensorflow/workspace/images/collectedimages/thumbsdown\\thumbsdown.c3e353dc-d10d-11ec-af1b-54e1adea0618.xml\n",
      "Image:C:\\Users\\vlad\\Git\\TFODCourse\\Tensorflow\\workspace\\images\\collectedimages\\thumbsdown\\thumbsdown.c8b8b293-d10d-11ec-ba9a-54e1adea0618.jpg -> Annotation:C:/Users/vlad/Git/TFODCourse/Tensorflow/workspace/images/collectedimages/thumbsdown\\thumbsdown.c8b8b293-d10d-11ec-ba9a-54e1adea0618.xml\n",
      "Image:C:\\Users\\vlad\\Git\\TFODCourse\\Tensorflow\\workspace\\images\\collectedimages\\thumbsdown\\thumbsdown.c9ee2581-d10d-11ec-b441-54e1adea0618.jpg -> Annotation:C:/Users/vlad/Git/TFODCourse/Tensorflow/workspace/images/collectedimages/thumbsdown\\thumbsdown.c9ee2581-d10d-11ec-b441-54e1adea0618.xml\n",
      "Image:C:\\Users\\vlad\\Git\\TFODCourse\\Tensorflow\\workspace\\images\\collectedimages\\thumbsdown\\thumbsdown.c64ea07f-d10d-11ec-b06e-54e1adea0618.jpg -> Annotation:C:/Users/vlad/Git/TFODCourse/Tensorflow/workspace/images/collectedimages/thumbsdown\\thumbsdown.c64ea07f-d10d-11ec-b06e-54e1adea0618.xml\n",
      "Image:C:\\Users\\vlad\\Git\\TFODCourse\\Tensorflow\\workspace\\images\\collectedimages\\thumbsdown\\thumbsdown.c518cb10-d10d-11ec-accc-54e1adea0618.jpg -> Annotation:C:/Users/vlad/Git/TFODCourse/Tensorflow/workspace/images/collectedimages/thumbsdown\\thumbsdown.c518cb10-d10d-11ec-accc-54e1adea0618.xml\n",
      "Image:C:\\Users\\vlad\\Git\\TFODCourse\\Tensorflow\\workspace\\images\\collectedimages\\thumbsdown\\thumbsdown.c783a596-d10d-11ec-8f21-54e1adea0618.jpg -> Annotation:C:/Users/vlad/Git/TFODCourse/Tensorflow/workspace/images/collectedimages/thumbsdown\\thumbsdown.c783a596-d10d-11ec-8f21-54e1adea0618.xml\n",
      "Image:C:\\Users\\vlad\\Git\\TFODCourse\\Tensorflow\\workspace\\images\\collectedimages\\thumbsdown\\thumbsdown.c0411395-d10d-11ec-82d6-54e1adea0618.jpg -> Annotation:C:/Users/vlad/Git/TFODCourse/Tensorflow/workspace/images/collectedimages/thumbsdown\\thumbsdown.c0411395-d10d-11ec-82d6-54e1adea0618.xml\n",
      "Image:C:\\Users\\vlad\\Git\\TFODCourse\\Tensorflow\\workspace\\images\\collectedimages\\thumbsdown\\thumbsdown.c1769606-d10d-11ec-adf4-54e1adea0618.jpg -> Annotation:C:/Users/vlad/Git/TFODCourse/Tensorflow/workspace/images/collectedimages/thumbsdown\\thumbsdown.c1769606-d10d-11ec-adf4-54e1adea0618.xml\n",
      "Image:C:\\Users\\vlad\\Git\\TFODCourse\\Tensorflow\\workspace\\images\\collectedimages\\thumbsdown\\thumbsdown.cb2345bc-d10d-11ec-a2d1-54e1adea0618.jpg -> Annotation:C:/Users/vlad/Git/TFODCourse/Tensorflow/workspace/images/collectedimages/thumbsdown\\thumbsdown.cb2345bc-d10d-11ec-a2d1-54e1adea0618.xml\n",
      "Image:C:\\Users\\vlad\\Git\\TFODCourse\\Tensorflow\\workspace\\images\\collectedimages\\thumbsdown\\thumbsdown.cc58fc6c-d10d-11ec-8111-54e1adea0618.jpg -> Annotation:C:/Users/vlad/Git/TFODCourse/Tensorflow/workspace/images/collectedimages/thumbsdown\\thumbsdown.cc58fc6c-d10d-11ec-8111-54e1adea0618.xml\n",
      "Image:C:\\Users\\vlad\\Git\\TFODCourse\\Tensorflow\\workspace\\images\\collectedimages\\thumbsdown\\thumbsdown.cd8e7505-d10d-11ec-8ccf-54e1adea0618.jpg -> Annotation:C:/Users/vlad/Git/TFODCourse/Tensorflow/workspace/images/collectedimages/thumbsdown\\thumbsdown.cd8e7505-d10d-11ec-8ccf-54e1adea0618.xml\n",
      "Image:C:\\Users\\vlad\\Git\\TFODCourse\\Tensorflow\\workspace\\images\\collectedimages\\thumbsdown\\thumbsdown.cec384c2-d10d-11ec-be14-54e1adea0618.jpg -> Annotation:C:/Users/vlad/Git/TFODCourse/Tensorflow/workspace/images/collectedimages/thumbsdown\\thumbsdown.cec384c2-d10d-11ec-be14-54e1adea0618.xml\n",
      "Image:C:\\Users\\vlad\\Git\\TFODCourse\\Tensorflow\\workspace\\images\\collectedimages\\thumbsdown\\thumbsdown.cffa04b3-d10d-11ec-acd1-54e1adea0618.jpg -> Annotation:C:/Users/vlad/Git/TFODCourse/Tensorflow/workspace/images/collectedimages/thumbsdown\\thumbsdown.cffa04b3-d10d-11ec-acd1-54e1adea0618.xml\n",
      "Image:C:\\Users\\vlad\\Git\\TFODCourse\\Tensorflow\\workspace\\images\\collectedimages\\thumbsup\\thumbsup.8d81268a-d10d-11ec-8490-54e1adea0618.jpg -> Annotation:C:/Users/vlad/Git/TFODCourse/Tensorflow/workspace/images/collectedimages/thumbsup\\thumbsup.8d81268a-d10d-11ec-8490-54e1adea0618.xml\n",
      "Image:C:\\Users\\vlad\\Git\\TFODCourse\\Tensorflow\\workspace\\images\\collectedimages\\thumbsup\\thumbsup.8ecdea27-d10d-11ec-a817-54e1adea0618.jpg -> Annotation:C:/Users/vlad/Git/TFODCourse/Tensorflow/workspace/images/collectedimages/thumbsup\\thumbsup.8ecdea27-d10d-11ec-a817-54e1adea0618.xml\n",
      "Image:C:\\Users\\vlad\\Git\\TFODCourse\\Tensorflow\\workspace\\images\\collectedimages\\thumbsup\\thumbsup.9aeaf5e3-d10d-11ec-b8f3-54e1adea0618.jpg -> Annotation:C:/Users/vlad/Git/TFODCourse/Tensorflow/workspace/images/collectedimages/thumbsup\\thumbsup.9aeaf5e3-d10d-11ec-b8f3-54e1adea0618.xml\n",
      "Image:C:\\Users\\vlad\\Git\\TFODCourse\\Tensorflow\\workspace\\images\\collectedimages\\thumbsup\\thumbsup.9c20ce30-d10d-11ec-ac9b-54e1adea0618.jpg -> Annotation:C:/Users/vlad/Git/TFODCourse/Tensorflow/workspace/images/collectedimages/thumbsup\\thumbsup.9c20ce30-d10d-11ec-ac9b-54e1adea0618.xml\n",
      "Image:C:\\Users\\vlad\\Git\\TFODCourse\\Tensorflow\\workspace\\images\\collectedimages\\thumbsup\\thumbsup.9d56cc9f-d10d-11ec-99f6-54e1adea0618.jpg -> Annotation:C:/Users/vlad/Git/TFODCourse/Tensorflow/workspace/images/collectedimages/thumbsup\\thumbsup.9d56cc9f-d10d-11ec-99f6-54e1adea0618.xml\n",
      "Image:C:\\Users\\vlad\\Git\\TFODCourse\\Tensorflow\\workspace\\images\\collectedimages\\thumbsup\\thumbsup.9e8be4d0-d10d-11ec-bd0c-54e1adea0618.jpg -> Annotation:C:/Users/vlad/Git/TFODCourse/Tensorflow/workspace/images/collectedimages/thumbsup\\thumbsup.9e8be4d0-d10d-11ec-bd0c-54e1adea0618.xml\n",
      "Image:C:\\Users\\vlad\\Git\\TFODCourse\\Tensorflow\\workspace\\images\\collectedimages\\thumbsup\\thumbsup.9fc2550b-d10d-11ec-a126-54e1adea0618.jpg -> Annotation:C:/Users/vlad/Git/TFODCourse/Tensorflow/workspace/images/collectedimages/thumbsup\\thumbsup.9fc2550b-d10d-11ec-a126-54e1adea0618.xml\n",
      "Image:C:\\Users\\vlad\\Git\\TFODCourse\\Tensorflow\\workspace\\images\\collectedimages\\thumbsup\\thumbsup.93a7686a-d10d-11ec-a26d-54e1adea0618.jpg -> Annotation:C:/Users/vlad/Git/TFODCourse/Tensorflow/workspace/images/collectedimages/thumbsup\\thumbsup.93a7686a-d10d-11ec-a26d-54e1adea0618.xml\n",
      "Image:C:\\Users\\vlad\\Git\\TFODCourse\\Tensorflow\\workspace\\images\\collectedimages\\thumbsup\\thumbsup.94dcd6ba-d10d-11ec-8a00-54e1adea0618.jpg -> Annotation:C:/Users/vlad/Git/TFODCourse/Tensorflow/workspace/images/collectedimages/thumbsup\\thumbsup.94dcd6ba-d10d-11ec-8a00-54e1adea0618.xml\n",
      "Image:C:\\Users\\vlad\\Git\\TFODCourse\\Tensorflow\\workspace\\images\\collectedimages\\thumbsup\\thumbsup.99b602f6-d10d-11ec-87e1-54e1adea0618.jpg -> Annotation:C:/Users/vlad/Git/TFODCourse/Tensorflow/workspace/images/collectedimages/thumbsup\\thumbsup.99b602f6-d10d-11ec-87e1-54e1adea0618.xml\n",
      "Image:C:\\Users\\vlad\\Git\\TFODCourse\\Tensorflow\\workspace\\images\\collectedimages\\thumbsup\\thumbsup.913ad8ec-d10d-11ec-80a3-54e1adea0618.jpg -> Annotation:C:/Users/vlad/Git/TFODCourse/Tensorflow/workspace/images/collectedimages/thumbsup\\thumbsup.913ad8ec-d10d-11ec-80a3-54e1adea0618.xml\n",
      "Image:C:\\Users\\vlad\\Git\\TFODCourse\\Tensorflow\\workspace\\images\\collectedimages\\thumbsup\\thumbsup.974a0a29-d10d-11ec-9aba-54e1adea0618.jpg -> Annotation:C:/Users/vlad/Git/TFODCourse/Tensorflow/workspace/images/collectedimages/thumbsup\\thumbsup.974a0a29-d10d-11ec-9aba-54e1adea0618.xml\n",
      "Image:C:\\Users\\vlad\\Git\\TFODCourse\\Tensorflow\\workspace\\images\\collectedimages\\thumbsup\\thumbsup.987f4fc2-d10d-11ec-bd19-54e1adea0618.jpg -> Annotation:C:/Users/vlad/Git/TFODCourse/Tensorflow/workspace/images/collectedimages/thumbsup\\thumbsup.987f4fc2-d10d-11ec-bd19-54e1adea0618.xml\n",
      "Image:C:\\Users\\vlad\\Git\\TFODCourse\\Tensorflow\\workspace\\images\\collectedimages\\thumbsup\\thumbsup.9004f263-d10d-11ec-9c1e-54e1adea0618.jpg -> Annotation:C:/Users/vlad/Git/TFODCourse/Tensorflow/workspace/images/collectedimages/thumbsup\\thumbsup.9004f263-d10d-11ec-9c1e-54e1adea0618.xml\n",
      "Image:C:\\Users\\vlad\\Git\\TFODCourse\\Tensorflow\\workspace\\images\\collectedimages\\thumbsup\\thumbsup.92728a28-d10d-11ec-a5a6-54e1adea0618.jpg -> Annotation:C:/Users/vlad/Git/TFODCourse/Tensorflow/workspace/images/collectedimages/thumbsup\\thumbsup.92728a28-d10d-11ec-a5a6-54e1adea0618.xml\n",
      "Image:C:\\Users\\vlad\\Git\\TFODCourse\\Tensorflow\\workspace\\images\\collectedimages\\thumbsup\\thumbsup.9613708a-d10d-11ec-a52e-54e1adea0618.jpg -> Annotation:C:/Users/vlad/Git/TFODCourse/Tensorflow/workspace/images/collectedimages/thumbsup\\thumbsup.9613708a-d10d-11ec-a52e-54e1adea0618.xml\n",
      "Image:C:\\Users\\vlad\\Git\\TFODCourse\\Tensorflow\\workspace\\images\\collectedimages\\thumbsup\\thumbsup.a0f7b62f-d10d-11ec-aadc-54e1adea0618.jpg -> Annotation:C:/Users/vlad/Git/TFODCourse/Tensorflow/workspace/images/collectedimages/thumbsup\\thumbsup.a0f7b62f-d10d-11ec-aadc-54e1adea0618.xml\n",
      "Image:C:\\Users\\vlad\\Git\\TFODCourse\\Tensorflow\\workspace\\images\\collectedimages\\thumbsup\\thumbsup.a5d0a06e-d10d-11ec-b95c-54e1adea0618.jpg -> Annotation:C:/Users/vlad/Git/TFODCourse/Tensorflow/workspace/images/collectedimages/thumbsup\\thumbsup.a5d0a06e-d10d-11ec-b95c-54e1adea0618.xml\n",
      "Image:C:\\Users\\vlad\\Git\\TFODCourse\\Tensorflow\\workspace\\images\\collectedimages\\thumbsup\\thumbsup.a22f6e23-d10d-11ec-a746-54e1adea0618.jpg -> Annotation:C:/Users/vlad/Git/TFODCourse/Tensorflow/workspace/images/collectedimages/thumbsup\\thumbsup.a22f6e23-d10d-11ec-a746-54e1adea0618.xml\n",
      "Image:C:\\Users\\vlad\\Git\\TFODCourse\\Tensorflow\\workspace\\images\\collectedimages\\thumbsup\\thumbsup.a49b4b96-d10d-11ec-9ddc-54e1adea0618.jpg -> Annotation:C:/Users/vlad/Git/TFODCourse/Tensorflow/workspace/images/collectedimages/thumbsup\\thumbsup.a49b4b96-d10d-11ec-9ddc-54e1adea0618.xml\n",
      "Image:C:\\Users\\vlad\\Git\\TFODCourse\\Tensorflow\\workspace\\images\\collectedimages\\thumbsup\\thumbsup.a83a4489-d10d-11ec-bb36-54e1adea0618.jpg -> Annotation:C:/Users/vlad/Git/TFODCourse/Tensorflow/workspace/images/collectedimages/thumbsup\\thumbsup.a83a4489-d10d-11ec-bb36-54e1adea0618.xml\n",
      "Image:C:\\Users\\vlad\\Git\\TFODCourse\\Tensorflow\\workspace\\images\\collectedimages\\thumbsup\\thumbsup.a96fc994-d10d-11ec-ad18-54e1adea0618.jpg -> Annotation:C:/Users/vlad/Git/TFODCourse/Tensorflow/workspace/images/collectedimages/thumbsup\\thumbsup.a96fc994-d10d-11ec-ad18-54e1adea0618.xml\n",
      "Image:C:\\Users\\vlad\\Git\\TFODCourse\\Tensorflow\\workspace\\images\\collectedimages\\thumbsup\\thumbsup.a365b48f-d10d-11ec-ad81-54e1adea0618.jpg -> Annotation:C:/Users/vlad/Git/TFODCourse/Tensorflow/workspace/images/collectedimages/thumbsup\\thumbsup.a365b48f-d10d-11ec-ad81-54e1adea0618.xml\n",
      "Image:C:\\Users\\vlad\\Git\\TFODCourse\\Tensorflow\\workspace\\images\\collectedimages\\thumbsup\\thumbsup.a7056bc6-d10d-11ec-910b-54e1adea0618.jpg -> Annotation:C:/Users/vlad/Git/TFODCourse/Tensorflow/workspace/images/collectedimages/thumbsup\\thumbsup.a7056bc6-d10d-11ec-910b-54e1adea0618.xml\n",
      "Image:C:\\Users\\vlad\\Git\\TFODCourse\\Tensorflow\\workspace\\images\\collectedimages\\thumbsup\\thumbsup.aaa71014-d10d-11ec-bfc3-54e1adea0618.jpg -> Annotation:C:/Users/vlad/Git/TFODCourse/Tensorflow/workspace/images/collectedimages/thumbsup\\thumbsup.aaa71014-d10d-11ec-bfc3-54e1adea0618.xml\n",
      "Image:C:\\Users\\vlad\\Git\\TFODCourse\\Tensorflow\\workspace\\images\\collectedimages\\yes\\yes.d840e8ad-d10d-11ec-83b1-54e1adea0618.jpg -> Annotation:C:/Users/vlad/Git/TFODCourse/Tensorflow/workspace/images/collectedimages/yes\\yes.d840e8ad-d10d-11ec-83b1-54e1adea0618.xml\n",
      "Image:C:\\Users\\vlad\\Git\\TFODCourse\\Tensorflow\\workspace\\images\\collectedimages\\yes\\yes.d9760661-d10d-11ec-8d43-54e1adea0618.jpg -> Annotation:C:/Users/vlad/Git/TFODCourse/Tensorflow/workspace/images/collectedimages/yes\\yes.d9760661-d10d-11ec-8d43-54e1adea0618.xml\n",
      "Image:C:\\Users\\vlad\\Git\\TFODCourse\\Tensorflow\\workspace\\images\\collectedimages\\yes\\yes.daaaf0b3-d10d-11ec-8bf4-54e1adea0618.jpg -> Annotation:C:/Users/vlad/Git/TFODCourse/Tensorflow/workspace/images/collectedimages/yes\\yes.daaaf0b3-d10d-11ec-8bf4-54e1adea0618.xml\n",
      "Image:C:\\Users\\vlad\\Git\\TFODCourse\\Tensorflow\\workspace\\images\\collectedimages\\yes\\yes.dbe0d36e-d10d-11ec-a982-54e1adea0618.jpg -> Annotation:C:/Users/vlad/Git/TFODCourse/Tensorflow/workspace/images/collectedimages/yes\\yes.dbe0d36e-d10d-11ec-a982-54e1adea0618.xml\n",
      "Image:C:\\Users\\vlad\\Git\\TFODCourse\\Tensorflow\\workspace\\images\\collectedimages\\yes\\yes.dd16227e-d10d-11ec-92ea-54e1adea0618.jpg -> Annotation:C:/Users/vlad/Git/TFODCourse/Tensorflow/workspace/images/collectedimages/yes\\yes.dd16227e-d10d-11ec-92ea-54e1adea0618.xml\n",
      "Image:C:\\Users\\vlad\\Git\\TFODCourse\\Tensorflow\\workspace\\images\\collectedimages\\yes\\yes.de4b9911-d10d-11ec-8740-54e1adea0618.jpg -> Annotation:C:/Users/vlad/Git/TFODCourse/Tensorflow/workspace/images/collectedimages/yes\\yes.de4b9911-d10d-11ec-8740-54e1adea0618.xml\n",
      "Image:C:\\Users\\vlad\\Git\\TFODCourse\\Tensorflow\\workspace\\images\\collectedimages\\yes\\yes.df808ac0-d10d-11ec-8247-54e1adea0618.jpg -> Annotation:C:/Users/vlad/Git/TFODCourse/Tensorflow/workspace/images/collectedimages/yes\\yes.df808ac0-d10d-11ec-8247-54e1adea0618.xml\n",
      "Image:C:\\Users\\vlad\\Git\\TFODCourse\\Tensorflow\\workspace\\images\\collectedimages\\yes\\yes.e0b63d9c-d10d-11ec-8eb2-54e1adea0618.jpg -> Annotation:C:/Users/vlad/Git/TFODCourse/Tensorflow/workspace/images/collectedimages/yes\\yes.e0b63d9c-d10d-11ec-8eb2-54e1adea0618.xml\n",
      "Image:C:\\Users\\vlad\\Git\\TFODCourse\\Tensorflow\\workspace\\images\\collectedimages\\yes\\yes.e1eba74d-d10d-11ec-9e36-54e1adea0618.jpg -> Annotation:C:/Users/vlad/Git/TFODCourse/Tensorflow/workspace/images/collectedimages/yes\\yes.e1eba74d-d10d-11ec-9e36-54e1adea0618.xml\n",
      "Image:C:\\Users\\vlad\\Git\\TFODCourse\\Tensorflow\\workspace\\images\\collectedimages\\yes\\yes.e6c0f1fd-d10d-11ec-9039-54e1adea0618.jpg -> Annotation:C:/Users/vlad/Git/TFODCourse/Tensorflow/workspace/images/collectedimages/yes\\yes.e6c0f1fd-d10d-11ec-9039-54e1adea0618.xml\n",
      "Image:C:\\Users\\vlad\\Git\\TFODCourse\\Tensorflow\\workspace\\images\\collectedimages\\yes\\yes.e7f5827e-d10d-11ec-902e-54e1adea0618.jpg -> Annotation:C:/Users/vlad/Git/TFODCourse/Tensorflow/workspace/images/collectedimages/yes\\yes.e7f5827e-d10d-11ec-902e-54e1adea0618.xml\n",
      "Image:C:\\Users\\vlad\\Git\\TFODCourse\\Tensorflow\\workspace\\images\\collectedimages\\yes\\yes.e58bccfa-d10d-11ec-9c4a-54e1adea0618.jpg -> Annotation:C:/Users/vlad/Git/TFODCourse/Tensorflow/workspace/images/collectedimages/yes\\yes.e58bccfa-d10d-11ec-9c4a-54e1adea0618.xml\n",
      "Image:C:\\Users\\vlad\\Git\\TFODCourse\\Tensorflow\\workspace\\images\\collectedimages\\yes\\yes.e92a0c4c-d10d-11ec-afa7-54e1adea0618.jpg -> Annotation:C:/Users/vlad/Git/TFODCourse/Tensorflow/workspace/images/collectedimages/yes\\yes.e92a0c4c-d10d-11ec-afa7-54e1adea0618.xml\n",
      "Image:C:\\Users\\vlad\\Git\\TFODCourse\\Tensorflow\\workspace\\images\\collectedimages\\yes\\yes.e32031be-d10d-11ec-a591-54e1adea0618.jpg -> Annotation:C:/Users/vlad/Git/TFODCourse/Tensorflow/workspace/images/collectedimages/yes\\yes.e32031be-d10d-11ec-a591-54e1adea0618.xml\n",
      "Image:C:\\Users\\vlad\\Git\\TFODCourse\\Tensorflow\\workspace\\images\\collectedimages\\yes\\yes.e4561452-d10d-11ec-996a-54e1adea0618.jpg -> Annotation:C:/Users/vlad/Git/TFODCourse/Tensorflow/workspace/images/collectedimages/yes\\yes.e4561452-d10d-11ec-996a-54e1adea0618.xml\n",
      "Image:C:\\Users\\vlad\\Git\\TFODCourse\\Tensorflow\\workspace\\images\\collectedimages\\yes\\yes.ea5e3776-d10d-11ec-a4c4-54e1adea0618.jpg -> Annotation:C:/Users/vlad/Git/TFODCourse/Tensorflow/workspace/images/collectedimages/yes\\yes.ea5e3776-d10d-11ec-a4c4-54e1adea0618.xml\n",
      "Image:C:\\Users\\vlad\\Git\\TFODCourse\\Tensorflow\\workspace\\images\\collectedimages\\yes\\yes.eb92dd35-d10d-11ec-9319-54e1adea0618.jpg -> Annotation:C:/Users/vlad/Git/TFODCourse/Tensorflow/workspace/images/collectedimages/yes\\yes.eb92dd35-d10d-11ec-9319-54e1adea0618.xml\n",
      "Image:C:\\Users\\vlad\\Git\\TFODCourse\\Tensorflow\\workspace\\images\\collectedimages\\yes\\yes.ecc85708-d10d-11ec-9f29-54e1adea0618.jpg -> Annotation:C:/Users/vlad/Git/TFODCourse/Tensorflow/workspace/images/collectedimages/yes\\yes.ecc85708-d10d-11ec-9f29-54e1adea0618.xml\n",
      "Image:C:\\Users\\vlad\\Git\\TFODCourse\\Tensorflow\\workspace\\images\\collectedimages\\yes\\yes.edfd8b12-d10d-11ec-bd91-54e1adea0618.jpg -> Annotation:C:/Users/vlad/Git/TFODCourse/Tensorflow/workspace/images/collectedimages/yes\\yes.edfd8b12-d10d-11ec-bd91-54e1adea0618.xml\n",
      "Image:C:\\Users\\vlad\\Git\\TFODCourse\\Tensorflow\\workspace\\images\\collectedimages\\yes\\yes.ef330a7f-d10d-11ec-b656-54e1adea0618.jpg -> Annotation:C:/Users/vlad/Git/TFODCourse/Tensorflow/workspace/images/collectedimages/yes\\yes.ef330a7f-d10d-11ec-b656-54e1adea0618.xml\n",
      "Image:C:\\Users\\vlad\\Git\\TFODCourse\\Tensorflow\\workspace\\images\\collectedimages\\yes\\yes.f2d2d3f7-d10d-11ec-9402-54e1adea0618.jpg -> Annotation:C:/Users/vlad/Git/TFODCourse/Tensorflow/workspace/images/collectedimages/yes\\yes.f2d2d3f7-d10d-11ec-9402-54e1adea0618.xml\n",
      "Image:C:\\Users\\vlad\\Git\\TFODCourse\\Tensorflow\\workspace\\images\\collectedimages\\yes\\yes.f19d8b24-d10d-11ec-ad29-54e1adea0618.jpg -> Annotation:C:/Users/vlad/Git/TFODCourse/Tensorflow/workspace/images/collectedimages/yes\\yes.f19d8b24-d10d-11ec-ad29-54e1adea0618.xml\n",
      "Image:C:\\Users\\vlad\\Git\\TFODCourse\\Tensorflow\\workspace\\images\\collectedimages\\yes\\yes.f53ffe73-d10d-11ec-a6d5-54e1adea0618.jpg -> Annotation:C:/Users/vlad/Git/TFODCourse/Tensorflow/workspace/images/collectedimages/yes\\yes.f53ffe73-d10d-11ec-a6d5-54e1adea0618.xml\n",
      "Image:C:\\Users\\vlad\\Git\\TFODCourse\\Tensorflow\\workspace\\images\\collectedimages\\yes\\yes.f409da98-d10d-11ec-a748-54e1adea0618.jpg -> Annotation:C:/Users/vlad/Git/TFODCourse/Tensorflow/workspace/images/collectedimages/yes\\yes.f409da98-d10d-11ec-a748-54e1adea0618.xml\n",
      "Image:C:\\Users\\vlad\\Git\\TFODCourse\\Tensorflow\\workspace\\images\\collectedimages\\yes\\yes.f06860f1-d10d-11ec-aa00-54e1adea0618.jpg -> Annotation:C:/Users/vlad/Git/TFODCourse/Tensorflow/workspace/images/collectedimages/yes\\yes.f06860f1-d10d-11ec-aa00-54e1adea0618.xml\n"
     ]
    },
    {
     "name": "stderr",
     "output_type": "stream",
     "text": [
      "C:\\Users\\vlad\\Git\\TFODCourse\\Tensorflow\\labelimg\\labelImg.py:210: DeprecationWarning: an integer is required (got type DockWidgetFeatures).  Implicit conversion to integers using __int__ is deprecated, and may be removed in a future version of Python.\n",
      "  self.dock.setFeatures(self.dock.features() ^ self.dock_features)\n"
     ]
    }
   ],
   "source": [
    "!cd {LABELIMG_PATH} && python labelImg.py"
   ]
  },
  {
   "cell_type": "code",
   "execution_count": null,
   "metadata": {},
   "outputs": [],
   "source": []
  }
 ],
 "metadata": {
  "kernelspec": {
   "display_name": "tfod",
   "language": "python",
   "name": "tfod"
  },
  "language_info": {
   "codemirror_mode": {
    "name": "ipython",
    "version": 3
   },
   "file_extension": ".py",
   "mimetype": "text/x-python",
   "name": "python",
   "nbconvert_exporter": "python",
   "pygments_lexer": "ipython3",
   "version": "3.9.7"
  }
 },
 "nbformat": 4,
 "nbformat_minor": 2
}
